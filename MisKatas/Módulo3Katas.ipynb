{
  "cells": [
    {
      "cell_type": "markdown",
      "metadata": {},
      "source": [
        "# Ejercicio - Escribir declaraciones `if`, `else`, y `elif`\n",
        "\n",
        "\n",
        "\n",
        "Para este ejercicio, escribirás una lógica condicional que imprima una advertencia si un asteroide se acerca a la Tierra demasiado rápido. La velocidad del asteroide varía dependiendo de lo cerca que esté del sol, y cualquier velocidad superior a 25 kilómetros por segundo (km/s) merece una advertencia.\n",
        "\n",
        "Un asteroide se acerca, y viaja a una velocidad de 49 km/s."
      ]
    },
    {
      "cell_type": "markdown",
      "metadata": {},
      "source": [
        "Si un asteroide entra en la atmósfera de la Tierra a una velocidad mayor o igual a 20 km/s, a veces produce un rayo de luz que se puede ver desde la Tierra. Escribe la lógica condicional que usa declaraciones `if`, `else`, y `elif` para alertar a las personas de todo el mundo que deben buscar un asteroide en el cielo. ¡Hay uno que se dirige a la tierra ahora a una velocidad de 19 km/s!"
      ]
    },
    {
      "cell_type": "markdown",
      "metadata": {},
      "source": [
        "# Ejercicio: Uso de operadores `and` y `or` \n",
        "\n",
        "\n",
        "En este ejercicio, aprenderás información más matizada sobre cuándo los asteroides representan un peligro para la Tierra, y utilizarás esa información para mejorar nuestro sistema de advertencia. Aquí está la nueva información que necesitas saber:\n",
        "\n",
        "*Los asteroides de menos de 25 metros en su dimensión más grande probablemente se quemarán a medida que entren en la atmósfera de la Tierra.\n",
        "* Si una pieza de un asteroide que es más grande que 25 metros pero más pequeña que 1000 metros golpeara la Tierra, causaría mucho daño.\n",
        "\n",
        "También discutimos en el ejercicio anterior que:\n",
        "\n",
        "* La velocidad del asteroide varía en función de lo cerca que esté del sol, y cualquier velocidad superior a 25 kilómetros por segundo (km/s) merece una advertencia.\n",
        "* Si un asteroide entra en la atmósfera de la Tierra a una velocidad mayor o igual a 20 km/s, a veces produce un rayo de luz que se puede ver desde la Tierra.\n",
        "\n",
        "Usando toda esta información, escribe un programa que emita la advertencia o información correcta a la gente de la Tierra, según la velocidad y el tamaño de un asteroide. Utiliza instrucciones `if`, `else`, y `elif`, así como los operadores `and` y `or`."
      ]
    },
    {
      "cell_type": "markdown",
      "metadata": {},
      "source": [
        "## Soluciones"
      ]
    },
    {
      "cell_type": "markdown",
      "metadata": {},
      "source": [
        "#### Problema No. 1"
      ]
    },
    {
      "cell_type": "code",
      "execution_count": 2,
      "metadata": {},
      "outputs": [
        {
          "name": "stdout",
          "output_type": "stream",
          "text": [
            "ASTEROID WARNING!\n"
          ]
        }
      ],
      "source": [
        "asteroid_speed = 49\n",
        "\n",
        "if asteroid_speed > 25:\n",
        "    print(\"ASTEROID WARNING!\")\n",
        "else:\n",
        "    print (\"Everything looks fine\")"
      ]
    },
    {
      "cell_type": "markdown",
      "metadata": {},
      "source": [
        "#### Problema No. 2"
      ]
    },
    {
      "cell_type": "code",
      "execution_count": 3,
      "metadata": {},
      "outputs": [
        {
          "name": "stdout",
          "output_type": "stream",
          "text": [
            "The sky looks pretty calm...\n"
          ]
        }
      ],
      "source": [
        "asteroid_speed = 19\n",
        "\n",
        "if asteroid_speed > 20:\n",
        "    print(\"Look at the sky!, There is an asteroid about to shine!\")\n",
        "elif asteroid_speed == 20:\n",
        "    print(\"If you look at the sky, maybe you will see an asteroid shining\")\n",
        "else:\n",
        "    print(\"The sky looks pretty calm...\")"
      ]
    },
    {
      "cell_type": "markdown",
      "metadata": {},
      "source": [
        "#### Problema No. 3"
      ]
    },
    {
      "cell_type": "code",
      "execution_count": 4,
      "metadata": {},
      "outputs": [
        {
          "name": "stdout",
          "output_type": "stream",
          "text": [
            "WARNING! AN ASTEROID BIG ENOUGH AND AT SPEED ENOUGH IS ABOUT TO HIT THE EARTH!\n"
          ]
        }
      ],
      "source": [
        "asteroid_speed = 30\n",
        "asteroid_size = 60\n",
        "\n",
        "if 25 < asteroid_size < 1000 and asteroid_speed > 25:\n",
        "    print(\"WARNING! AN ASTEROID BIG ENOUGH AND AT SPEED ENOUGH IS ABOUT TO HIT THE EARTH!\")\n",
        "\n",
        "elif asteroid_speed > 25 and asteroid_size < 25:\n",
        "    print(\"WARNING! THERE IS AN ASTEROID AT HIGH SPEED CLOSING THE EARTH\")\n",
        "\n",
        "elif 25 < asteroid_size < 1000 and asteroid_speed < 25:\n",
        "    print(\"WARNING! THERE IS AN ASTEROID BIG ENOGH ABOUT TO HIT THE EARTH\")\n",
        "\n",
        "elif asteroid_size > 1000:\n",
        "    print(\"We are doomed...\")\n",
        "\n",
        "elif 25 > asteroid_speed > 20:\n",
        "    print(\"Look at the sky!, There is an asteroid about to shine!\")\n",
        "\n",
        "elif asteroid_speed == 20:\n",
        "    print(\"If you look at the sky, maybe you will see an asteroid shining\")\n",
        "\n",
        "else:\n",
        "    print(\"The sky looks pretty calm...\")"
      ]
    }
  ],
  "metadata": {
    "interpreter": {
      "hash": "916dbcbb3f70747c44a77c7bcd40155683ae19c65e1c03b4aa3499c5328201f1"
    },
    "kernel_info": {
      "name": "conda-env-py37_default-py"
    },
    "kernelspec": {
      "display_name": "py37_default",
      "language": "python",
      "name": "python3"
    },
    "language_info": {
      "codemirror_mode": {
        "name": "ipython",
        "version": 3
      },
      "file_extension": ".py",
      "mimetype": "text/x-python",
      "name": "python",
      "nbconvert_exporter": "python",
      "pygments_lexer": "ipython3",
      "version": "3.10.2"
    },
    "nteract": {
      "version": "nteract-front-end@1.0.0"
    },
    "orig_nbformat": 4
  },
  "nbformat": 4,
  "nbformat_minor": 2
}
